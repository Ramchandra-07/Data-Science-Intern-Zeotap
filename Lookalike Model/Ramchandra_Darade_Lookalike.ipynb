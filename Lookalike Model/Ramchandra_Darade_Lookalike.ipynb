{
 "cells": [
  {
   "cell_type": "markdown",
   "id": "6118d864",
   "metadata": {},
   "source": [
    "# Task 2: Lookalike Model"
   ]
  },
  {
   "cell_type": "markdown",
   "id": "5c009773",
   "metadata": {},
   "source": [
    "# Data set\n",
    "Products.csv :\n",
    "https://drive.google.com/file/d/1IKuDizVapw-hyktwfpoAoaGtHtTNHfd0/view?usp=sharing"
   ]
  },
  {
   "cell_type": "markdown",
   "id": "b0257e86",
   "metadata": {},
   "source": [
    "# Files Description:\n",
    "1. Customers.csv\n",
    "○ CustomerID: Unique identifier for each customer.\n",
    "○ CustomerName: Name of the customer.\n",
    "○ Region: Continent where the customer resides.\n",
    "○ SignupDate: Date when the customer signed up.\n",
    "\n",
    "2. Products.csv\n",
    "○ ProductID: Unique identifier for each product.\n",
    "○ ProductName: Name of the product.\n",
    "○ Category: Product category.\n",
    "○ Price: Product price in USD."
   ]
  },
  {
   "cell_type": "markdown",
   "id": "85f0feef",
   "metadata": {},
   "source": [
    "# Importing liberaries "
   ]
  },
  {
   "cell_type": "code",
   "execution_count": 3,
   "id": "cb76b1de",
   "metadata": {},
   "outputs": [],
   "source": [
    "import numpy as np\n",
    "import pandas as pd \n",
    "import matplotlib.pyplot as plt\n",
    "import seaborn as sns\n",
    "\n",
    "from sklearn.preprocessing import StandardScaler\n",
    "from sklearn.metrics.pairwise import cosine_similarity"
   ]
  },
  {
   "cell_type": "code",
   "execution_count": 4,
   "id": "bb696068",
   "metadata": {},
   "outputs": [],
   "source": [
    "# Load data\n",
    "customers = pd.read_csv(\"C:/Users/ARCHANA/Desktop/Zeotap/Customers.csv\", parse_dates=['SignupDate'])\n",
    "products = pd.read_csv(\"C:/Users/ARCHANA/Desktop/Zeotap/Products.csv\")"
   ]
  },
  {
   "cell_type": "code",
   "execution_count": 5,
   "id": "6e7b6221",
   "metadata": {},
   "outputs": [],
   "source": [
    "# Create product category averages\n",
    "category_avg = products.groupby('Category')['Price'].mean().to_dict()"
   ]
  },
  {
   "cell_type": "code",
   "execution_count": 6,
   "id": "d6e9ed3f",
   "metadata": {},
   "outputs": [],
   "source": [
    "# Feature engineering for customers\n",
    "customers['SignupYear'] = customers['SignupDate'].dt.year\n",
    "customers['SignupMonth'] = customers['SignupDate'].dt.month"
   ]
  },
  {
   "cell_type": "code",
   "execution_count": 7,
   "id": "934abe35",
   "metadata": {},
   "outputs": [],
   "source": [
    "# Add category averages to customer data\n",
    "for category in category_avg:\n",
    "    customers[f'Avg_{category}_Price'] = category_avg[category]\n"
   ]
  },
  {
   "cell_type": "code",
   "execution_count": 8,
   "id": "155f6c00",
   "metadata": {},
   "outputs": [],
   "source": [
    "# Encode regions\n",
    "customers = pd.get_dummies(customers, columns=['Region'], prefix='Region')"
   ]
  },
  {
   "cell_type": "code",
   "execution_count": 9,
   "id": "35878d5f",
   "metadata": {},
   "outputs": [],
   "source": [
    "# Create feature matrix\n",
    "features = ['SignupYear', 'SignupMonth'] + \\\n",
    "           [f'Region_{r}' for r in ['Asia', 'Europe', 'North America', 'South America']] + \\\n",
    "           [f'Avg_{cat}_Price' for cat in category_avg]\n",
    "\n",
    "\n",
    "X = customers[features]"
   ]
  },
  {
   "cell_type": "code",
   "execution_count": 10,
   "id": "553c1758",
   "metadata": {},
   "outputs": [],
   "source": [
    "# Normalize features\n",
    "scaler = StandardScaler()\n",
    "X_scaled = scaler.fit_transform(X)"
   ]
  },
  {
   "cell_type": "code",
   "execution_count": 11,
   "id": "5b5a99f1",
   "metadata": {},
   "outputs": [],
   "source": [
    "# Compute cosine similarity matrix\n",
    "similarity_matrix = cosine_similarity(X_scaled)"
   ]
  },
  {
   "cell_type": "code",
   "execution_count": 12,
   "id": "dac7be58",
   "metadata": {},
   "outputs": [],
   "source": [
    "# Create recommendations dictionary\n",
    "lookalikes = {}\n",
    "for idx in range(20):\n",
    "    customer_id = f\"C{str(idx+1).zfill(4)}\"\n",
    "    scores = list(enumerate(similarity_matrix[idx]))\n",
    "    sorted_scores = sorted(scores, key=lambda x: x[1], reverse=True)[1:4]  # Exclude self\n",
    "    lookalikes[customer_id] = [\n",
    "        (f\"C{str(i+1).zfill(4)}\", round(score, 3))\n",
    "        for (i, score) in sorted_scores\n",
    "    ]"
   ]
  },
  {
   "cell_type": "code",
   "execution_count": 18,
   "id": "c909172a",
   "metadata": {},
   "outputs": [],
   "source": [
    "# Create output with proper structure\n",
    "output_data = []\n",
    "for cust_id, similarities in lookalikes.items():\n",
    "    formatted_similarities = [f\"{sim_id}:{score}\" for sim_id, score in similarities]\n",
    "    output_data.append({\"CustomerID\": cust_id, \"Lookalikes\": formatted_similarities})\n",
    "\n",
    "output = pd.DataFrame(output_data)\n",
    "output.to_csv('Lookalike.csv', index=False)"
   ]
  },
  {
   "cell_type": "code",
   "execution_count": null,
   "id": "9dcef6b9",
   "metadata": {},
   "outputs": [],
   "source": []
  }
 ],
 "metadata": {
  "kernelspec": {
   "display_name": "Python 3 (ipykernel)",
   "language": "python",
   "name": "python3"
  },
  "language_info": {
   "codemirror_mode": {
    "name": "ipython",
    "version": 3
   },
   "file_extension": ".py",
   "mimetype": "text/x-python",
   "name": "python",
   "nbconvert_exporter": "python",
   "pygments_lexer": "ipython3",
   "version": "3.10.5"
  }
 },
 "nbformat": 4,
 "nbformat_minor": 5
}
